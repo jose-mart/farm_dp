{
 "cells": [
  {
   "cell_type": "code",
   "execution_count": 1,
   "metadata": {},
   "outputs": [],
   "source": [
    "from utils.spark_utils import get_spark_session, get_config, enrich_df, basic_merge\n",
    "from pyspark.sql.types import StructType, StructField, StringType, DateType, TimestampType\n",
    "\n",
    "spark = get_spark_session()\n",
    "config = get_config()\n",
    "DATA_SOURCE = \"cows/\""
   ]
  },
  {
   "cell_type": "markdown",
   "metadata": {},
   "source": [
    "# Bronze to silver"
   ]
  },
  {
   "cell_type": "code",
   "execution_count": 2,
   "metadata": {},
   "outputs": [],
   "source": [
    "\n",
    "source_path = \"../\" + config[\"bronze_path\"] + DATA_SOURCE\n",
    "target_path = \"../\" + config[\"silver_path\"] + DATA_SOURCE\n",
    "checkpoint_location = \"../\" + config[\"bronze_path\"] + f\"checkpoints/{DATA_SOURCE}/\"\n",
    "\n",
    "silver_schema = StructType([\n",
    "                StructField(\"id\", StringType(), nullable=False),\n",
    "                StructField(\"name\", StringType(), nullable=True),\n",
    "                StructField(\"birthdate\", DateType(), nullable=False),\n",
    "                StructField(\"ingestion_date\", TimestampType(), nullable=False)\n",
    "            ])\n",
    "\n",
    "merge_columns = [\"id\"]\n",
    "\n",
    "bronze_df = (\n",
    "    spark.readStream.format(\"delta\").load(source_path)\n",
    "    .transform(enrich_df)\n",
    ")\n",
    "\n",
    "query = (\n",
    "    bronze_df\n",
    "    .writeStream\n",
    "    .outputMode(\"append\")\n",
    "    .option(\"checkpointLocation\", checkpoint_location)\n",
    "    .foreachBatch(\n",
    "        lambda df, _: \n",
    "        basic_merge(batch_df=df, batch_id=_,unique_columns=merge_columns,spark=spark, target_path=target_path,target_schema=silver_schema)\n",
    "    )\n",
    "    .trigger(once=True)\n",
    "    .start()\n",
    ")\n",
    "\n",
    "query.awaitTermination()"
   ]
  }
 ],
 "metadata": {
  "kernelspec": {
   "display_name": ".venv",
   "language": "python",
   "name": "python3"
  },
  "language_info": {
   "codemirror_mode": {
    "name": "ipython",
    "version": 3
   },
   "file_extension": ".py",
   "mimetype": "text/x-python",
   "name": "python",
   "nbconvert_exporter": "python",
   "pygments_lexer": "ipython3",
   "version": "3.12.3"
  }
 },
 "nbformat": 4,
 "nbformat_minor": 2
}
