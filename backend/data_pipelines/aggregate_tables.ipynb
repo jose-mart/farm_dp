{
 "cells": [
  {
   "cell_type": "code",
   "execution_count": 2,
   "metadata": {},
   "outputs": [],
   "source": [
    "from utils.spark_utils import get_spark_session, get_config\n",
    "\n",
    "spark = get_spark_session()\n",
    "config = get_config()"
   ]
  },
  {
   "cell_type": "code",
   "execution_count": 3,
   "metadata": {},
   "outputs": [],
   "source": [
    "from pyspark.sql.functions import col, from_unixtime, sum, max, avg, lit, stddev, when, count\n",
    "from datetime import timedelta\n",
    "\n",
    "MILK_PRODUCTION_TABLE_NAME = \"milk_production/\"\n",
    "COWS_WEIGHT = \"cows_weight/\"\n",
    "COWS_HEALTH_STATUS = \"cows_health/\""
   ]
  },
  {
   "cell_type": "code",
   "execution_count": 4,
   "metadata": {},
   "outputs": [],
   "source": [
    "cows = spark.read.format(\"delta\").load(\"../\" + config[\"silver_path\"] + \"cows/\")\n",
    "measurements = spark.read.format(\"delta\").load(\"../\" + config[\"silver_path\"] + \"measurements/\")\n",
    "sensors = spark.read.format(\"delta\").load(\"../\" + config[\"silver_path\"] + \"sensors/\")\n",
    "\n"
   ]
  },
  {
   "cell_type": "markdown",
   "metadata": {},
   "source": [
    "# Milk production\n",
    "\n",
    "Calculates milk production using as sources sensors data and measurements. Only sensor with unit = L will be used."
   ]
  },
  {
   "cell_type": "code",
   "execution_count": 5,
   "metadata": {},
   "outputs": [],
   "source": [
    "sensors_milk_production_df = sensors.filter(\"unit = 'L'\")\n",
    "milk_production_df = (\n",
    "    measurements.alias(\"l\")\n",
    "    .join(sensors_milk_production_df.alias(\"r\"), [col(\"l.sensor_id\") == col(\"r.id\")])\n",
    "    .select(\n",
    "        from_unixtime(col(\"timestamp\")).cast(\"date\").alias(\"date\"),\n",
    "        \"cow_id\",\n",
    "        \"value\"\n",
    "    ).groupBy(\"date\", \"cow_id\").agg(sum(col(\"value\")).alias(\"total_milk_production\"))\n",
    ")\n"
   ]
  },
  {
   "cell_type": "code",
   "execution_count": 68,
   "metadata": {},
   "outputs": [],
   "source": [
    "milk_production_df.write.format(\"delta\").mode(\"overwrite\").option(\"overwriteSchema\", \"true\").save(f\"../{config['gold_path']}{MILK_PRODUCTION_TABLE_NAME}\")"
   ]
  },
  {
   "cell_type": "markdown",
   "metadata": {},
   "source": [
    "# Cows weight\n",
    "\n",
    "Calculates cows weight usinga s sources sensors data and measurements. Only sensors with unit = kg will be used. Aggregates weights from the last 30 days and uses the average weight during the current/latest day to calculate current weight"
   ]
  },
  {
   "cell_type": "code",
   "execution_count": 7,
   "metadata": {},
   "outputs": [],
   "source": [
    "\n",
    "\n",
    "sensors_cows_weight_df = sensors.filter(\"unit = 'kg'\")\n",
    "cows_weight_df = (\n",
    "    measurements.alias(\"l\")\n",
    "    .join(sensors_cows_weight_df.alias(\"r\"), [col(\"l.sensor_id\") == col(\"r.id\")])\n",
    "    .join(cows.alias(\"z\"), [col(\"l.cow_id\") == col(\"z.id\")])\n",
    "    .select(\n",
    "        from_unixtime(col(\"timestamp\")).cast(\"date\").alias(\"date\"),\n",
    "        \"cow_id\",\n",
    "        \"value\",\n",
    "    )\n",
    ")\n",
    "\n",
    "max_date = cows_weight_df.agg(max(col(\"date\")).alias(\"max_date\")).collect()[0][\"max_date\"]\n",
    "date_30_days_ago = max_date - timedelta(days=30)\n",
    "\n",
    "# Filter DataFrame for the last 30 days\n",
    "last_30_days_df = cows_weight_df.filter((col(\"date\") <= max_date) & (col(\"date\") > date_30_days_ago))\n",
    "\n",
    "# Calculate the average weight for the last 30 days\n",
    "average_weight_last_30_days_df = last_30_days_df.groupBy(\"cow_id\").agg(avg(\"value\").alias(\"average_weight_last_30_days\"))\n",
    "\n",
    "# Calculate the current weight (weight at the max date)\n",
    "current_weight_df = cows_weight_df.filter(col(\"date\") == max_date).groupBy(\"cow_id\").agg(avg(\"value\").alias(\"current_weight\"))\n",
    "\n",
    "# Join the current weight and average weight DataFrames\n",
    "cows_weight_result_df = current_weight_df.join(average_weight_last_30_days_df, [\"cow_id\"], \"left\").withColumn(\"date\", lit(max_date))"
   ]
  },
  {
   "cell_type": "code",
   "execution_count": 70,
   "metadata": {},
   "outputs": [],
   "source": [
    "cows_weight_result_df.write.format(\"delta\").mode(\"overwrite\").option(\"overwriteSchema\", \"true\").save(f\"../{config['gold_path']}{COWS_WEIGHT}\")"
   ]
  },
  {
   "cell_type": "markdown",
   "metadata": {},
   "source": [
    "# Cows health status\n",
    "\n",
    "Compute cows health. For this we based the calculation in a standard desviation from the mean to detect anomalies."
   ]
  },
  {
   "cell_type": "code",
   "execution_count": 10,
   "metadata": {},
   "outputs": [],
   "source": [
    "milk_baseline_df = milk_production_df.groupBy(\"cow_id\").agg(\n",
    "    avg(\"total_milk_production\").alias(\"avg_daily_milk_production\"),\n",
    "    stddev(\"total_milk_production\").alias(\"stddev_daily_milk_production\")\n",
    ")\n",
    "\n",
    "weight_baseline_df = cows_weight_result_df.groupBy(\"cow_id\").agg(\n",
    "    avg(\"current_weight\").alias(\"avg_current_weight\"),\n",
    "    stddev(\"current_weight\").alias(\"stddev_current_weight\")\n",
    ")\n",
    "\n",
    "# Join baseline metrics with original data\n",
    "milk_with_baseline_df = milk_production_df.join(milk_baseline_df, [\"cow_id\"])\n",
    "weight_with_baseline_df = cows_weight_result_df.join(weight_baseline_df, [\"cow_id\"])\n",
    "\n",
    "threshold_multiplier = 2\n",
    "\n",
    "# Identify anomalies for milk production\n",
    "milk_anomalies_df = milk_with_baseline_df.withColumn(\n",
    "    \"milk_anomaly\",\n",
    "    when(\n",
    "        col(\"total_milk_production\") < col(\"avg_daily_milk_production\") - threshold_multiplier * col(\"stddev_daily_milk_production\"),\n",
    "        1\n",
    "    ).otherwise(0)\n",
    ")\n",
    "\n",
    "# Identify anomalies for weight\n",
    "weight_anomalies_df = weight_with_baseline_df.withColumn(\n",
    "    \"weight_anomaly\",\n",
    "    when(\n",
    "        col(\"current_weight\") < col(\"avg_current_weight\") - threshold_multiplier * col(\"stddev_current_weight\"),\n",
    "        1\n",
    "    ).otherwise(0)\n",
    ")\n",
    "\n",
    "# Aggregate anomalies and combine results\n",
    "milk_anomalies_df = milk_anomalies_df.groupBy(\"cow_id\").agg(\n",
    "    max(col(\"milk_anomaly\")).alias(\"milk_anomaly\")\n",
    ")\n",
    "\n",
    "weight_anomalies_df = weight_anomalies_df.groupBy(\"cow_id\").agg(\n",
    "    max(col(\"weight_anomaly\")).alias(\"weight_anomaly\")\n",
    ")\n",
    "\n",
    "# Join the anomaly results\n",
    "combined_anomalies_df = milk_anomalies_df.select(\"cow_id\", \"milk_anomaly\").join(weight_anomalies_df.select(\"cow_id\", \"weight_anomaly\"), [\"cow_id\"], \"outer\")\n"
   ]
  },
  {
   "cell_type": "code",
   "execution_count": 93,
   "metadata": {},
   "outputs": [],
   "source": [
    "combined_anomalies_df.write.format(\"delta\").mode(\"overwrite\").option(\"overwriteSchema\", \"true\").save(f\"../{config['gold_path']}{COWS_HEALTH_STATUS}\")"
   ]
  }
 ],
 "metadata": {
  "kernelspec": {
   "display_name": ".venv",
   "language": "python",
   "name": "python3"
  },
  "language_info": {
   "codemirror_mode": {
    "name": "ipython",
    "version": 3
   },
   "file_extension": ".py",
   "mimetype": "text/x-python",
   "name": "python",
   "nbconvert_exporter": "python",
   "pygments_lexer": "ipython3",
   "version": "3.12.3"
  }
 },
 "nbformat": 4,
 "nbformat_minor": 2
}
