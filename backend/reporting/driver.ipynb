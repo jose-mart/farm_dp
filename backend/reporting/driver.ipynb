{
 "cells": [
  {
   "cell_type": "markdown",
   "metadata": {},
   "source": [
    "# Text report generator\n",
    "\n",
    "Generates a text report that will be stored inside reports folder. It will calculate the total milk production for the date, a log of the cows for that day, cows weight and cows health status."
   ]
  },
  {
   "cell_type": "code",
   "execution_count": 1,
   "metadata": {},
   "outputs": [],
   "source": [
    "from utils.spark_utils import get_spark_session, get_config\n",
    "from report_generator import generate_report, save_report\n",
    "\n",
    "spark = get_spark_session()\n",
    "config = get_config()\n",
    "\n",
    "# Load DataFrames\n",
    "milk_production_df = spark.read.format(\"delta\").load(f\"../{config[\"gold_path\"]}milk_production/\")\n",
    "cows_weight_df = spark.read.format(\"delta\").load(f\"../{config[\"gold_path\"]}cows_weight/\")\n",
    "cows_health_status_df = spark.read.format(\"delta\").load(f\"../{config[\"gold_path\"]}cows_health/\")"
   ]
  },
  {
   "cell_type": "code",
   "execution_count": 2,
   "metadata": {},
   "outputs": [
    {
     "name": "stdout",
     "output_type": "stream",
     "text": [
      "Report successfully saved to reports\\report_2020-08-21.txt\n"
     ]
    }
   ],
   "source": [
    "\n",
    "report_date = \"2020-08-21\"\n",
    "report_content = generate_report(spark, report_date, milk_production_df, cows_weight_df, cows_health_status_df)\n",
    "save_report(report_date, report_content)"
   ]
  }
 ],
 "metadata": {
  "kernelspec": {
   "display_name": ".venv",
   "language": "python",
   "name": "python3"
  },
  "language_info": {
   "codemirror_mode": {
    "name": "ipython",
    "version": 3
   },
   "file_extension": ".py",
   "mimetype": "text/x-python",
   "name": "python",
   "nbconvert_exporter": "python",
   "pygments_lexer": "ipython3",
   "version": "3.12.3"
  }
 },
 "nbformat": 4,
 "nbformat_minor": 2
}
